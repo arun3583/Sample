{
  "nbformat": 4,
  "nbformat_minor": 0,
  "metadata": {
    "colab": {
      "provenance": [],
      "authorship_tag": "ABX9TyNHBG0xZFFNCgOTPfcyj6Im",
      "include_colab_link": true
    },
    "kernelspec": {
      "name": "python3",
      "display_name": "Python 3"
    },
    "language_info": {
      "name": "python"
    }
  },
  "cells": [
    {
      "cell_type": "markdown",
      "metadata": {
        "id": "view-in-github",
        "colab_type": "text"
      },
      "source": [
        "<a href=\"https://colab.research.google.com/github/arun3583/Sample/blob/main/cnn_tutorial_tkm.ipynb\" target=\"_parent\"><img src=\"https://colab.research.google.com/assets/colab-badge.svg\" alt=\"Open In Colab\"/></a>"
      ]
    },
    {
      "cell_type": "code",
      "execution_count": 81,
      "metadata": {
        "colab": {
          "base_uri": "https://localhost:8080/"
        },
        "id": "ewTgFx_SSqWc",
        "outputId": "9ee7eda3-be2a-4fa0-d3e5-3224ebe7ad15"
      },
      "outputs": [
        {
          "output_type": "stream",
          "name": "stdout",
          "text": [
            "48.888888888888886\n"
          ]
        },
        {
          "output_type": "stream",
          "name": "stderr",
          "text": [
            "/usr/local/lib/python3.7/dist-packages/sklearn/neural_network/_multilayer_perceptron.py:696: ConvergenceWarning: Stochastic Optimizer: Maximum iterations (200) reached and the optimization hasn't converged yet.\n",
            "  ConvergenceWarning,\n"
          ]
        }
      ],
      "source": [
        "# 1.Training\n",
        "# load data set(our own data set)\n",
        "# x=[[2,2],[5,1],[10,8],[8,4]]\n",
        "# y=[1,1,0,0]\n",
        "# load data set(our own data set using pandas)\n",
        "import pandas as pd\n",
        "file=pd.read_csv(\"/content/irisexcel.csv\")\n",
        "# load the ml model(algorith:svm)\n",
        "# from sklearn.svm import SVC\n",
        "# ml=SVC()\n",
        "# from sklearn.linear_model import Perceptron\n",
        "# ml=Perceptron()\n",
        "from sklearn.neural_network import MLPClassifier\n",
        "ml=MLPClassifier(hidden_layer_sizes=(5,6,),activation=\"relu\")\n",
        "# fit the data into the model\n",
        "# x=file[[\"sepal_length\",\"sepal_width\",\"petal_length\",\"petal_width\"]]\n",
        "# y=file[\"species\"]\n",
        "from sklearn.model_selection import train_test_split\n",
        "xtrain,xtest,ytrain,ytest=train_test_split(x,y,test_size=0.3)\n",
        "ml1=ml.fit(xtrain,ytrain)\n",
        "op=ml1.predict(xtest)\n",
        "# 2.Testing\n",
        "# op=ml1.predict([[4,2,1,2]])\n",
        "# print(op)\n",
        "from sklearn.metrics import accuracy_score\n",
        "score=accuracy_score(ytest,op)\n",
        "print(score*100)"
      ]
    },
    {
      "cell_type": "code",
      "source": [
        "import tensorflow as tf\n",
        "from tensorflow import keras\n",
        "kl=keras.models.Sequential()\n",
        "kl.add(keras.layers.Dense(units=5,activation=\"relu\",input_shape=xtrain.shape[1:]))\n",
        "kl.summary()"
      ],
      "metadata": {
        "colab": {
          "base_uri": "https://localhost:8080/"
        },
        "id": "BmTOxx_vNgsI",
        "outputId": "9e3fe9d5-9883-4b53-bac8-bccf1eb2a70f"
      },
      "execution_count": 55,
      "outputs": [
        {
          "output_type": "stream",
          "name": "stdout",
          "text": [
            "Model: \"sequential_1\"\n",
            "_________________________________________________________________\n",
            " Layer (type)                Output Shape              Param #   \n",
            "=================================================================\n",
            " dense_1 (Dense)             (None, 5)                 25        \n",
            "                                                                 \n",
            "=================================================================\n",
            "Total params: 25\n",
            "Trainable params: 25\n",
            "Non-trainable params: 0\n",
            "_________________________________________________________________\n"
          ]
        }
      ]
    },
    {
      "cell_type": "code",
      "source": [
        "kl.add(keras.layers.Dense(units=1,activation='sigmoid'))\n",
        "kl.summary()"
      ],
      "metadata": {
        "colab": {
          "base_uri": "https://localhost:8080/"
        },
        "id": "PaZAgbSuQzMG",
        "outputId": "414031b4-d909-4e51-a526-17c6a447c648"
      },
      "execution_count": 56,
      "outputs": [
        {
          "output_type": "stream",
          "name": "stdout",
          "text": [
            "Model: \"sequential_1\"\n",
            "_________________________________________________________________\n",
            " Layer (type)                Output Shape              Param #   \n",
            "=================================================================\n",
            " dense_1 (Dense)             (None, 5)                 25        \n",
            "                                                                 \n",
            " dense_2 (Dense)             (None, 1)                 6         \n",
            "                                                                 \n",
            "=================================================================\n",
            "Total params: 31\n",
            "Trainable params: 31\n",
            "Non-trainable params: 0\n",
            "_________________________________________________________________\n"
          ]
        }
      ]
    },
    {
      "cell_type": "code",
      "source": [
        "# kl.compile(loss='categorical_crossentropy',optimizer='adam',mertrics='accuracy')\n",
        "kl.compile(\n",
        "optimizer= keras.optimizers.Adam(), \n",
        "loss= keras.losses.CategoricalCrossentropy(from_logits= True), \n",
        "metrics= ['accuracy'])"
      ],
      "metadata": {
        "id": "TLuXtokyTpfq"
      },
      "execution_count": 84,
      "outputs": []
    },
    {
      "cell_type": "code",
      "source": [
        "kl.fit(xtrain,ytrain,epochs=50)"
      ],
      "metadata": {
        "colab": {
          "base_uri": "https://localhost:8080/"
        },
        "id": "NdAjyHN8URRa",
        "outputId": "71ef64a3-18bd-44bb-c785-84d83582ec99"
      },
      "execution_count": 85,
      "outputs": [
        {
          "output_type": "stream",
          "name": "stdout",
          "text": [
            "Epoch 1/50\n"
          ]
        },
        {
          "output_type": "stream",
          "name": "stderr",
          "text": [
            "/usr/local/lib/python3.7/dist-packages/tensorflow/python/util/dispatch.py:1082: UserWarning: \"`categorical_crossentropy` received `from_logits=True`, but the `output` argument was produced by a sigmoid or softmax activation and thus does not represent logits. Was this intended?\"\n",
            "  return dispatch_target(*args, **kwargs)\n"
          ]
        },
        {
          "output_type": "stream",
          "name": "stdout",
          "text": [
            "4/4 [==============================] - 1s 4ms/step - loss: 0.0000e+00 - accuracy: 0.2952\n",
            "Epoch 2/50\n",
            "4/4 [==============================] - 0s 4ms/step - loss: 0.0000e+00 - accuracy: 0.2952\n",
            "Epoch 3/50\n",
            "4/4 [==============================] - 0s 4ms/step - loss: 0.0000e+00 - accuracy: 0.2952\n",
            "Epoch 4/50\n",
            "4/4 [==============================] - 0s 4ms/step - loss: 0.0000e+00 - accuracy: 0.2952\n",
            "Epoch 5/50\n",
            "4/4 [==============================] - 0s 4ms/step - loss: 0.0000e+00 - accuracy: 0.2952\n",
            "Epoch 6/50\n",
            "4/4 [==============================] - 0s 3ms/step - loss: 0.0000e+00 - accuracy: 0.2952\n",
            "Epoch 7/50\n",
            "4/4 [==============================] - 0s 4ms/step - loss: 0.0000e+00 - accuracy: 0.2952\n",
            "Epoch 8/50\n",
            "4/4 [==============================] - 0s 5ms/step - loss: 0.0000e+00 - accuracy: 0.2952\n",
            "Epoch 9/50\n",
            "4/4 [==============================] - 0s 4ms/step - loss: 0.0000e+00 - accuracy: 0.2952\n",
            "Epoch 10/50\n",
            "4/4 [==============================] - 0s 4ms/step - loss: 0.0000e+00 - accuracy: 0.2952\n",
            "Epoch 11/50\n",
            "4/4 [==============================] - 0s 3ms/step - loss: 0.0000e+00 - accuracy: 0.2952\n",
            "Epoch 12/50\n",
            "4/4 [==============================] - 0s 4ms/step - loss: 0.0000e+00 - accuracy: 0.2952\n",
            "Epoch 13/50\n",
            "4/4 [==============================] - 0s 5ms/step - loss: 0.0000e+00 - accuracy: 0.2952\n",
            "Epoch 14/50\n",
            "4/4 [==============================] - 0s 4ms/step - loss: 0.0000e+00 - accuracy: 0.2952\n",
            "Epoch 15/50\n",
            "4/4 [==============================] - 0s 4ms/step - loss: 0.0000e+00 - accuracy: 0.2952\n",
            "Epoch 16/50\n",
            "4/4 [==============================] - 0s 3ms/step - loss: 0.0000e+00 - accuracy: 0.2952\n",
            "Epoch 17/50\n",
            "4/4 [==============================] - 0s 4ms/step - loss: 0.0000e+00 - accuracy: 0.2952\n",
            "Epoch 18/50\n",
            "4/4 [==============================] - 0s 3ms/step - loss: 0.0000e+00 - accuracy: 0.2952\n",
            "Epoch 19/50\n",
            "4/4 [==============================] - 0s 5ms/step - loss: 0.0000e+00 - accuracy: 0.2952\n",
            "Epoch 20/50\n",
            "4/4 [==============================] - 0s 3ms/step - loss: 0.0000e+00 - accuracy: 0.2952\n",
            "Epoch 21/50\n",
            "4/4 [==============================] - 0s 4ms/step - loss: 0.0000e+00 - accuracy: 0.2952\n",
            "Epoch 22/50\n",
            "4/4 [==============================] - 0s 5ms/step - loss: 0.0000e+00 - accuracy: 0.2952\n",
            "Epoch 23/50\n",
            "4/4 [==============================] - 0s 5ms/step - loss: 0.0000e+00 - accuracy: 0.2952\n",
            "Epoch 24/50\n",
            "4/4 [==============================] - 0s 4ms/step - loss: 0.0000e+00 - accuracy: 0.2952\n",
            "Epoch 25/50\n",
            "4/4 [==============================] - 0s 7ms/step - loss: 0.0000e+00 - accuracy: 0.2952\n",
            "Epoch 26/50\n",
            "4/4 [==============================] - 0s 4ms/step - loss: 0.0000e+00 - accuracy: 0.2952\n",
            "Epoch 27/50\n",
            "4/4 [==============================] - 0s 4ms/step - loss: 0.0000e+00 - accuracy: 0.2952\n",
            "Epoch 28/50\n",
            "4/4 [==============================] - 0s 6ms/step - loss: 0.0000e+00 - accuracy: 0.2952\n",
            "Epoch 29/50\n",
            "4/4 [==============================] - 0s 3ms/step - loss: 0.0000e+00 - accuracy: 0.2952\n",
            "Epoch 30/50\n",
            "4/4 [==============================] - 0s 4ms/step - loss: 0.0000e+00 - accuracy: 0.2952\n",
            "Epoch 31/50\n",
            "4/4 [==============================] - 0s 4ms/step - loss: 0.0000e+00 - accuracy: 0.2952\n",
            "Epoch 32/50\n",
            "4/4 [==============================] - 0s 4ms/step - loss: 0.0000e+00 - accuracy: 0.2952\n",
            "Epoch 33/50\n",
            "4/4 [==============================] - 0s 4ms/step - loss: 0.0000e+00 - accuracy: 0.2952\n",
            "Epoch 34/50\n",
            "4/4 [==============================] - 0s 5ms/step - loss: 0.0000e+00 - accuracy: 0.2952\n",
            "Epoch 35/50\n",
            "4/4 [==============================] - 0s 4ms/step - loss: 0.0000e+00 - accuracy: 0.2952\n",
            "Epoch 36/50\n",
            "4/4 [==============================] - 0s 4ms/step - loss: 0.0000e+00 - accuracy: 0.2952\n",
            "Epoch 37/50\n",
            "4/4 [==============================] - 0s 3ms/step - loss: 0.0000e+00 - accuracy: 0.2952\n",
            "Epoch 38/50\n",
            "4/4 [==============================] - 0s 4ms/step - loss: 0.0000e+00 - accuracy: 0.2952\n",
            "Epoch 39/50\n",
            "4/4 [==============================] - 0s 4ms/step - loss: 0.0000e+00 - accuracy: 0.2952\n",
            "Epoch 40/50\n",
            "4/4 [==============================] - 0s 3ms/step - loss: 0.0000e+00 - accuracy: 0.2952\n",
            "Epoch 41/50\n",
            "4/4 [==============================] - 0s 3ms/step - loss: 0.0000e+00 - accuracy: 0.2952\n",
            "Epoch 42/50\n",
            "4/4 [==============================] - 0s 4ms/step - loss: 0.0000e+00 - accuracy: 0.2952\n",
            "Epoch 43/50\n",
            "4/4 [==============================] - 0s 4ms/step - loss: 0.0000e+00 - accuracy: 0.2952\n",
            "Epoch 44/50\n",
            "4/4 [==============================] - 0s 4ms/step - loss: 0.0000e+00 - accuracy: 0.2952\n",
            "Epoch 45/50\n",
            "4/4 [==============================] - 0s 4ms/step - loss: 0.0000e+00 - accuracy: 0.2952\n",
            "Epoch 46/50\n",
            "4/4 [==============================] - 0s 4ms/step - loss: 0.0000e+00 - accuracy: 0.3238\n",
            "Epoch 47/50\n",
            "4/4 [==============================] - 0s 3ms/step - loss: 0.0000e+00 - accuracy: 0.3429\n",
            "Epoch 48/50\n",
            "4/4 [==============================] - 0s 4ms/step - loss: 0.0000e+00 - accuracy: 0.3905\n",
            "Epoch 49/50\n",
            "4/4 [==============================] - 0s 4ms/step - loss: 0.0000e+00 - accuracy: 0.5143\n",
            "Epoch 50/50\n",
            "4/4 [==============================] - 0s 3ms/step - loss: 0.0000e+00 - accuracy: 0.5714\n"
          ]
        },
        {
          "output_type": "execute_result",
          "data": {
            "text/plain": [
              "<keras.callbacks.History at 0x7f0de3ef06d0>"
            ]
          },
          "metadata": {},
          "execution_count": 85
        }
      ]
    },
    {
      "cell_type": "code",
      "source": [
        "test_loss,test_accuracy=kl.evaluate(xtest,ytest)\n",
        "print(test_accuracy*100)"
      ],
      "metadata": {
        "colab": {
          "base_uri": "https://localhost:8080/"
        },
        "id": "SQX4bfMrUcXG",
        "outputId": "6c7f37ef-5e03-426b-9c76-49c668cb6642"
      },
      "execution_count": 87,
      "outputs": [
        {
          "output_type": "stream",
          "name": "stdout",
          "text": [
            "2/2 [==============================] - 0s 7ms/step - loss: 0.0000e+00 - accuracy: 0.6444\n",
            "64.4444465637207\n"
          ]
        }
      ]
    },
    {
      "cell_type": "code",
      "source": [
        "from sklearn.datasets import load_iris\n",
        "file=load_iris()\n",
        "x=file.data\n",
        "y=file.target\n",
        "print(y)"
      ],
      "metadata": {
        "colab": {
          "base_uri": "https://localhost:8080/"
        },
        "id": "OQeTe3ksVQ5J",
        "outputId": "262f42ae-6e48-40e8-93f5-d7da14565e4e"
      },
      "execution_count": 80,
      "outputs": [
        {
          "output_type": "stream",
          "name": "stdout",
          "text": [
            "[0 0 0 0 0 0 0 0 0 0 0 0 0 0 0 0 0 0 0 0 0 0 0 0 0 0 0 0 0 0 0 0 0 0 0 0 0\n",
            " 0 0 0 0 0 0 0 0 0 0 0 0 0 1 1 1 1 1 1 1 1 1 1 1 1 1 1 1 1 1 1 1 1 1 1 1 1\n",
            " 1 1 1 1 1 1 1 1 1 1 1 1 1 1 1 1 1 1 1 1 1 1 1 1 1 1 2 2 2 2 2 2 2 2 2 2 2\n",
            " 2 2 2 2 2 2 2 2 2 2 2 2 2 2 2 2 2 2 2 2 2 2 2 2 2 2 2 2 2 2 2 2 2 2 2 2 2\n",
            " 2 2]\n"
          ]
        }
      ]
    },
    {
      "cell_type": "markdown",
      "source": [
        "1.Training\n",
        "load data set\n",
        "load the ml model\n",
        "fit the data into the model\n",
        "2.Testing\n"
      ],
      "metadata": {
        "id": "0EAsHORWUEzU"
      }
    }
  ]
}